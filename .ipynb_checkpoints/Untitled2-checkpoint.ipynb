{
 "metadata": {
  "name": "",
  "signature": "sha256:7102579bf64ae1bd657cf8534467fff663673778841c41ed7c7e5beb030872bd"
 },
 "nbformat": 3,
 "nbformat_minor": 0,
 "worksheets": []
}