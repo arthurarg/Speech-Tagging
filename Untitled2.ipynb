{
 "metadata": {
  "name": "",
  "signature": "sha256:dce37b047145c19f753a977fff0ea888ecd512c4dd3a1d9765979f55654da032"
 },
 "nbformat": 3,
 "nbformat_minor": 0,
 "worksheets": [
  {
   "cells": [
    {
     "cell_type": "code",
     "collapsed": false,
     "input": [
      "        # get seq\n",
      "        m=-1000\n",
      "        i=0\n",
      "        j=0\n",
      "        for k in xrange(n):\n",
      "            for l in xrange(n):\n",
      "                if b[k, l] > m:\n",
      "                    i=k\n",
      "                    j=l\n",
      "                    m=b[k, l]\n",
      "        w=len(line)-1\n",
      "        tags = np.zeros(len(line), dtype=int)\n",
      "        while w>=2:\n",
      "            if w<len(line)-1:\n",
      "                tags[w] = i\n",
      "            temp=track[w, i, j]\n",
      "            i=j\n",
      "            j=temp\n",
      "            w -= 1\n",
      "        newline=\"\"\n",
      "        for i in range(2, len(line)-1):\n",
      "            if i>2:\n",
      "                newline += \" \"\n",
      "            #newline += line0[i]+\"/\"+taglist[tags[i]]\n",
      "        tagged.append(newline)"
     ],
     "language": "python",
     "metadata": {},
     "outputs": []
    }
   ],
   "metadata": {}
  }
 ]
}